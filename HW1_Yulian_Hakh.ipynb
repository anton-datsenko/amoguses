{
  "cells": [
    {
      "cell_type": "markdown",
      "metadata": {
        "id": "L3Z2cFgtpCcJ"
      },
      "source": [
        "# ***Initializing***"
      ]
    },
    {
      "cell_type": "code",
      "execution_count": 1,
      "metadata": {
        "colab": {
          "base_uri": "https://localhost:8080/"
        },
        "id": "bc7c0a7c",
        "outputId": "e4f57593-d6c7-4da1-e446-72e5acc3ec15"
      },
      "outputs": [
        {
          "name": "stdout",
          "output_type": "stream",
          "text": [
            "sys.version_info(major=3, minor=10, micro=1, releaselevel='final', serial=0)\n",
            "version 3.10.1\n"
          ]
        }
      ],
      "source": [
        "# Installation - anaconda python:\n",
        "#     - https://www.anaconda.com/products/individual\n",
        "# After installation you can always add modules.\n",
        "# Modules can be added from different channels.\n",
        "#   conda info\n",
        "#   conda config --add channels anaconda\n",
        "#   conda config --add channels conda-forge\n",
        "# You can do periodic updates using these commands:\n",
        "#   conda update conda\n",
        "#   conda update anaconda\n",
        "# -------------------------------------------------------\n",
        "import sys\n",
        "vv = sys.version_info\n",
        "print(vv)\n",
        "print('version ' + '.'.join([str(x) for x in vv[0:3]]))"
      ]
    },
    {
      "cell_type": "markdown",
      "metadata": {
        "id": "0e8bf2ed"
      },
      "source": [
        "#  Question 12"
      ]
    },
    {
      "cell_type": "markdown",
      "metadata": {
        "id": "a648dc6a"
      },
      "source": [
        "***Write a program that asks the user how many credits they have taken. If they have taken 23 or less, print that the student is a freshman. If they have taken between 24 and 53, print that they are a sophomore. The range for juniors is 54 to 83, and for seniors it is 84 and over.***"
      ]
    },
    {
      "cell_type": "markdown",
      "metadata": {
        "id": "d9428a56"
      },
      "source": [
        "### Answer:"
      ]
    },
    {
      "cell_type": "code",
      "execution_count": 8,
      "metadata": {
        "id": "NxmXAdpLkLPg"
      },
      "outputs": [
        {
          "data": {
            "text/plain": [
              "'Student is senior.'"
            ]
          },
          "execution_count": 8,
          "metadata": {},
          "output_type": "execute_result"
        }
      ],
      "source": [
        "def credit(crd):\n",
        "    result = 'Student is '\n",
        "    if crd <= 23:\n",
        "        result += 'freshman.'\n",
        "    elif 24 <= crd <= 53:\n",
        "        result += 'sophomore.'\n",
        "    elif 54 <= crd <= 83:\n",
        "        result += 'junior.'\n",
        "    else:\n",
        "        result += 'senior.'\n",
        "    return result\n",
        "\n",
        "\n",
        "credit(100)\n"
      ]
    },
    {
      "cell_type": "markdown",
      "metadata": {
        "id": "81480a72"
      },
      "source": [
        "#  Question 15"
      ]
    },
    {
      "cell_type": "markdown",
      "metadata": {
        "id": "9868bbf3"
      },
      "source": [
        "***A store charges $\\$$12 per item if you buy less than 10 items. If you buy between 10 and 99 items, the cost is $\\$$10 per item. If you buy 100 or more items, the cost is $7 per item. Write a program that asks the user how many items they are buying and prints the total cost.***"
      ]
    },
    {
      "cell_type": "markdown",
      "metadata": {
        "id": "2bc40308"
      },
      "source": [
        "### Answer:"
      ]
    },
    {
      "cell_type": "code",
      "execution_count": 9,
      "metadata": {
        "id": "L7h2C6s9kKpp"
      },
      "outputs": [
        {
          "data": {
            "text/plain": [
              "735"
            ]
          },
          "execution_count": 9,
          "metadata": {},
          "output_type": "execute_result"
        }
      ],
      "source": [
        "def total_products_cost(amount):\n",
        "    cost = 0\n",
        "    if amount < 10:\n",
        "        cost = 12\n",
        "    elif 10 <= amount <= 99:\n",
        "        cost = 10\n",
        "    else: \n",
        "        cost = 7\n",
        "    return amount * cost\n",
        "\n",
        "\n",
        "total_products_cost(105)\n"
      ]
    },
    {
      "cell_type": "markdown",
      "metadata": {
        "id": "e062f922"
      },
      "source": [
        "#  Question 17"
      ]
    },
    {
      "cell_type": "markdown",
      "metadata": {
        "id": "b6305c6e"
      },
      "source": [
        "***Calculate number of business days between two dates using datetime module.***"
      ]
    },
    {
      "cell_type": "markdown",
      "metadata": {
        "id": "033bd743"
      },
      "source": [
        "### Answer:"
      ]
    },
    {
      "cell_type": "code",
      "execution_count": 1,
      "metadata": {
        "id": "2DV3VDwYkJw5"
      },
      "outputs": [
        {
          "data": {
            "text/plain": [
              "'Total: 10 business days.'"
            ]
          },
          "execution_count": 1,
          "metadata": {},
          "output_type": "execute_result"
        }
      ],
      "source": [
        "import datetime\n",
        "\n",
        "def business_day_counter(from_date, to_date):  # business_day_counter((day, month, year), (day, month, year))\n",
        "    start = datetime.date(from_date[2], from_date[1], from_date[0])\n",
        "    end = datetime.date(to_date[2], to_date[1], to_date[0])\n",
        "\n",
        "    all_days = (start + datetime.timedelta(day + 1) for day in range((end - start).days))\n",
        "\n",
        "    total_without_weekends = sum(1 for day in all_days if day.weekday() < 5)\n",
        "\n",
        "    return f'Total: {total_without_weekends} business days.'\n",
        "\n",
        "\n",
        "business_day_counter((18, 9, 2022), (30, 9, 2022))"
      ]
    }
  ],
  "metadata": {
    "colab": {
      "provenance": []
    },
    "kernelspec": {
      "display_name": "Python 3.10.1 64-bit",
      "language": "python",
      "name": "python3"
    },
    "language_info": {
      "codemirror_mode": {
        "name": "ipython",
        "version": 3
      },
      "file_extension": ".py",
      "mimetype": "text/x-python",
      "name": "python",
      "nbconvert_exporter": "python",
      "pygments_lexer": "ipython3",
      "version": "3.10.1"
    },
    "vscode": {
      "interpreter": {
        "hash": "3cb68a614320ff6d3bac34bf90d182d634953fdc97e4495ede0dd9217ef2e9cf"
      }
    }
  },
  "nbformat": 4,
  "nbformat_minor": 0
}
