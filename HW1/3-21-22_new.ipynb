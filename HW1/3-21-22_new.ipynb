{
 "cells": [
  {
   "cell_type": "markdown",
   "metadata": {},
   "source": [
    "##  Question 3"
   ]
  },
  {
   "cell_type": "markdown",
   "metadata": {},
   "source": [
    "Write a function that asks the user to enter a list of integers. Do the following:\n",
    "\n",
    "- Print the last item in the list.\n",
    "- Print the list in reverse order.\n",
    "- Print Yes if the list contains a 5 and No otherwise.\n",
    "- Print the number of fives in the list.\n",
    "- Remove the first and last items from the list, sort the remaining items, and print the result.\n",
    "- Print how many integers in the list are less than 5."
   ]
  },
  {
   "cell_type": "markdown",
   "metadata": {},
   "source": [
    "### Answer"
   ]
  },
  {
   "cell_type": "code",
   "execution_count": 36,
   "metadata": {},
   "outputs": [
    {
     "data": {
      "text/plain": [
       "(5, [5, 2, 3, 4, 1], True, 1, [2, 3, 4], 4)"
      ]
     },
     "execution_count": 36,
     "metadata": {},
     "output_type": "execute_result"
    }
   ],
   "source": [
    "integers_list = map(int, input('Enter list of integer numbers: ').split())\n",
    "\n",
    "\n",
    "def list_integers(lst):\n",
    "    p1 = lst[-1]                        # 1)  Print the last item in the list.\n",
    "    p2 = lst[::-1]                      # 2)  Print the list in reverse order.\n",
    "    p3 = True if 5 in lst else False    # 3)  Print Yes if the list contains a 5 and No otherwise.\n",
    "    p4 = lst.count(5)                   # 4)  Print the number of fives in the list.\n",
    "    p5 = sorted(lst[1:-1])              # 5)  Remove the first and last items from the list, sort the remaining items, and print the result.\n",
    "    p6 = 0                              # 6)  Print how many integers in the list are less than 5.\n",
    "    for el in lst:\n",
    "        if el < 5:\n",
    "            p6 += 1\n",
    "    return p1, p2, p3, p4, p5, p6\n",
    "\n",
    "\n",
    "list_integers([1, 4, 3, 2, 5])\n"
   ]
  },
  {
   "cell_type": "markdown",
   "metadata": {},
   "source": [
    "## Question 21"
   ]
  },
  {
   "cell_type": "markdown",
   "metadata": {},
   "source": [
    "Calculate number of distinct characters in a string using a for loop."
   ]
  },
  {
   "cell_type": "markdown",
   "metadata": {},
   "source": [
    "## Answer"
   ]
  },
  {
   "cell_type": "code",
   "execution_count": null,
   "metadata": {},
   "outputs": [
    {
     "data": {
      "text/plain": [
       "0"
      ]
     },
     "metadata": {},
     "output_type": "display_data"
    }
   ],
   "source": [
    "def number_of_unique_characters(s):\n",
    "    total_unique_craracters = 0\n",
    "    for character in s:\n",
    "        if s.count(character) == 1:\n",
    "            total_unique_craracters += 1\n",
    "    return total_unique_craracters\n",
    "\n",
    "\n",
    "number_of_unique_characters('aabbccdd')\n"
   ]
  },
  {
   "cell_type": "markdown",
   "metadata": {},
   "source": [
    "## Question 22"
   ]
  },
  {
   "cell_type": "markdown",
   "metadata": {},
   "source": [
    "Write a function called is_sorted that is given a list and returns True if the list is sorted and False otherwise."
   ]
  },
  {
   "cell_type": "markdown",
   "metadata": {},
   "source": [
    "## Answer"
   ]
  },
  {
   "cell_type": "code",
   "execution_count": 8,
   "metadata": {},
   "outputs": [
    {
     "data": {
      "text/plain": [
       "False"
      ]
     },
     "execution_count": 8,
     "metadata": {},
     "output_type": "execute_result"
    }
   ],
   "source": [
    "def is_sorted(lst):\n",
    "    return lst == sorted(lst)\n",
    "\n",
    "\n",
    "is_sorted([4, 2, 3])\n"
   ]
  }
 ],
 "metadata": {
  "kernelspec": {
   "display_name": "Python 3.10.1 64-bit",
   "language": "python",
   "name": "python3"
  },
  "language_info": {
   "name": "python",
   "version": "3.10.1"
  },
  "orig_nbformat": 4,
  "vscode": {
   "interpreter": {
    "hash": "3cb68a614320ff6d3bac34bf90d182d634953fdc97e4495ede0dd9217ef2e9cf"
   }
  }
 },
 "nbformat": 4,
 "nbformat_minor": 2
}
