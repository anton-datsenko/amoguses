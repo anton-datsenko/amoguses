{
  "nbformat": 4,
  "nbformat_minor": 0,
  "metadata": {
    "colab": {
      "provenance": [],
      "collapsed_sections": []
    },
    "kernelspec": {
      "name": "python3",
      "display_name": "Python 3"
    },
    "language_info": {
      "name": "python"
    }
  },
  "cells": [
    {
      "cell_type": "markdown",
      "source": [
        "# ***Initializing***"
      ],
      "metadata": {
        "id": "L3Z2cFgtpCcJ"
      }
    },
    {
      "cell_type": "code",
      "execution_count": null,
      "metadata": {
        "colab": {
          "base_uri": "https://localhost:8080/"
        },
        "id": "bc7c0a7c",
        "outputId": "e4f57593-d6c7-4da1-e446-72e5acc3ec15"
      },
      "outputs": [
        {
          "output_type": "stream",
          "name": "stdout",
          "text": [
            "sys.version_info(major=3, minor=7, micro=14, releaselevel='final', serial=0)\n",
            "version 3.7.14\n"
          ]
        }
      ],
      "source": [
        "# Installation - anaconda python:\n",
        "#     - https://www.anaconda.com/products/individual\n",
        "# After installation you can always add modules.\n",
        "# Modules can be added from different channels.\n",
        "#   conda info\n",
        "#   conda config --add channels anaconda\n",
        "#   conda config --add channels conda-forge\n",
        "# You can do periodic updates using these commands:\n",
        "#   conda update conda\n",
        "#   conda update anaconda\n",
        "# -------------------------------------------------------\n",
        "import sys\n",
        "vv = sys.version_info\n",
        "print(vv)\n",
        "print('version ' + '.'.join([str(x) for x in vv[0:3]]))"
      ]
    },
    {
      "cell_type": "markdown",
      "metadata": {
        "id": "f22dd569"
      },
      "source": [
        "#  Question 2"
      ]
    },
    {
      "cell_type": "markdown",
      "metadata": {
        "id": "dca44c62"
      },
      "source": [
        "***Convert Between °C and °F. Convert temperatures from one system to another.***\n",
        "- **Create a print statement to convert 18.5° C to °F.**\n",
        "- **Create a print statement to convert -4° F to °C.**"
      ]
    },
    {
      "cell_type": "markdown",
      "metadata": {
        "id": "00b6f59b"
      },
      "source": [
        "### Answer:"
      ]
    },
    {
      "cell_type": "code",
      "source": [
        "def cel_to_fhar (celsius):\n",
        "  f = round(((celsius * 1.8) + 32),2)\n",
        "  #return f\"{str(celsius)} °C is {str(f)} °F\"\n",
        "  #return str(celsius) + \"°C is\", str(f) + \"F\"\n",
        "  return str(celsius) + \"°C is \" + str(f) + \"°F\"\n",
        "  \n",
        "def fhar_to_cel (fharenheit):\n",
        "  c = round((5/9 * (fharenheit - 32)),2)\n",
        "  return str(fharenheit)+ \"°F is \"+ str(c) + \"°C\"\n",
        "  \n",
        "print(cel_to_fhar(18.5))\n",
        "print(fhar_to_cel(-4))"
      ],
      "metadata": {
        "id": "fMr73WHIht6O",
        "colab": {
          "base_uri": "https://localhost:8080/"
        },
        "outputId": "97e959b7-a332-4a0d-c37d-4835a12f954d"
      },
      "execution_count": 4,
      "outputs": [
        {
          "output_type": "stream",
          "name": "stdout",
          "text": [
            "18.5°C is 65.3°F\n",
            "-4°F is -20.0°C\n"
          ]
        }
      ]
    },
    {
      "cell_type": "markdown",
      "metadata": {
        "id": "bec8d306"
      },
      "source": [
        "#  Question 7"
      ]
    },
    {
      "cell_type": "markdown",
      "metadata": {
        "id": "0b82ae59"
      },
      "source": [
        "***A lot of cell phones have tip calculators. Write one. Ask the user for the price of the meal and the percent tip they want to leave. Then print both the tip amount and the total bill with the tip included.***"
      ]
    },
    {
      "cell_type": "markdown",
      "metadata": {
        "id": "855e9ada"
      },
      "source": [
        "### Answer:"
      ]
    },
    {
      "cell_type": "code",
      "source": [
        "price = int(input(\"Price of the meal: \"))\n",
        "percent = int(input('Tip, %: '))\n",
        "tip = price/100*percent\n",
        "total = price + tip\n",
        "print (\"Total bill -\",str(total), 'UAH' , \"Tip amount -\", str(tip), 'UAH')"
      ],
      "metadata": {
        "id": "G8i_I7Cvh27x",
        "colab": {
          "base_uri": "https://localhost:8080/"
        },
        "outputId": "b47eca56-5e82-4f7a-dcbc-6fb1861ccdd8"
      },
      "execution_count": 7,
      "outputs": [
        {
          "output_type": "stream",
          "name": "stdout",
          "text": [
            "Price of the meal: 700\n",
            "Tip, %: 5\n",
            "Total bill - 735.0 UAH Tip amount - 35.0 UAH\n"
          ]
        }
      ]
    },
    {
      "cell_type": "markdown",
      "metadata": {
        "id": "046e6b5d"
      },
      "source": [
        "#  Question 9"
      ]
    },
    {
      "cell_type": "markdown",
      "metadata": {
        "id": "2be8413c"
      },
      "source": [
        "***Write a program that asks the user to enter an angle between -180° and 180°. Using an expression with the modulo operator, convert the angle to its equivalent between 0° and 360°.***"
      ]
    },
    {
      "cell_type": "markdown",
      "metadata": {
        "id": "070683b5"
      },
      "source": [
        "### Answer:"
      ]
    },
    {
      "cell_type": "code",
      "source": [
        "def eq_angle (angle):\n",
        "  if angle < 0:\n",
        "    return abs(angle) + 180\n",
        "  return angle\n",
        "ang = float(input(\"Enter the angle: \"))\n",
        "print(eq_angle(ang))"
      ],
      "metadata": {
        "id": "IorvtIT5h3w6",
        "colab": {
          "base_uri": "https://localhost:8080/"
        },
        "outputId": "394ce2b7-89a1-4a24-bf86-ae9ac70eca48"
      },
      "execution_count": 8,
      "outputs": [
        {
          "output_type": "stream",
          "name": "stdout",
          "text": [
            "Enter the angle: -90\n",
            "270.0\n",
            "270\n"
          ]
        }
      ]
    },
    {
      "cell_type": "markdown",
      "metadata": {
        "id": "bf4186d1"
      },
      "source": [
        "#  Question 16"
      ]
    },
    {
      "cell_type": "markdown",
      "metadata": {
        "id": "d1389cb0"
      },
      "source": [
        "***Write a program that removes any repeated items from a list so that each item appears at most once. For instance, the list $[1,1,2,3,4,3,0,0]$ would become $[1,2,3,4,0]$.***\n",
        "\n",
        "From Anton: best-in-slot option is to use a set. It possesses a great feauture: it can only contain unique elements, so the result of function set([1, 1, 2, 2, 3]) will be {1, 2, 3}"
      ]
    },
    {
      "cell_type": "markdown",
      "metadata": {
        "id": "765928be"
      },
      "source": [
        "### Answer:"
      ]
    },
    {
      "cell_type": "code",
      "source": [
        "numbers = [1,1,2,3,4,5,4,6,0,0]\n",
        "def remover(lis):\n",
        "  for x in lis:\n",
        "    if lis.count(x) != 1:\n",
        "      lis.remove(x)\n",
        "  return lis\n",
        "\n",
        "#unique = set(numbers)\n",
        "#print(list(unique))    <-- this method does not save the order\n",
        "print(remover(numbers))"
      ],
      "metadata": {
        "id": "ZoC_WVwvi76j",
        "colab": {
          "base_uri": "https://localhost:8080/"
        },
        "outputId": "f15a903b-e97e-40e8-db51-5e8769ac8244"
      },
      "execution_count": 16,
      "outputs": [
        {
          "output_type": "stream",
          "name": "stdout",
          "text": [
            "[1, 2, 3, 5, 4, 6, 0]\n"
          ]
        }
      ]
    }
  ]
}