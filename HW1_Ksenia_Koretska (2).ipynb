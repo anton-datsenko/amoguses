{
 "cells": [
  {
   "cell_type": "markdown",
   "metadata": {
    "id": "L3Z2cFgtpCcJ"
   },
   "source": [
    "# ***Initializing***"
   ]
  },
  {
   "cell_type": "code",
   "execution_count": null,
   "metadata": {
    "colab": {
     "base_uri": "https://localhost:8080/"
    },
    "id": "bc7c0a7c",
    "outputId": "e4f57593-d6c7-4da1-e446-72e5acc3ec15"
   },
   "outputs": [
    {
     "name": "stdout",
     "output_type": "stream",
     "text": [
      "sys.version_info(major=3, minor=7, micro=14, releaselevel='final', serial=0)\n",
      "version 3.7.14\n"
     ]
    }
   ],
   "source": [
    "# Installation - anaconda python:\n",
    "#     - https://www.anaconda.com/products/individual\n",
    "# After installation you can always add modules.\n",
    "# Modules can be added from different channels.\n",
    "#   conda info\n",
    "#   conda config --add channels anaconda\n",
    "#   conda config --add channels conda-forge\n",
    "# You can do periodic updates using these commands:\n",
    "#   conda update conda\n",
    "#   conda update anaconda\n",
    "# -------------------------------------------------------\n",
    "import sys\n",
    "vv = sys.version_info\n",
    "print(vv)\n",
    "print('version ' + '.'.join([str(x) for x in vv[0:3]]))"
   ]
  },
  {
   "cell_type": "markdown",
   "metadata": {
    "id": "06c27760"
   },
   "source": [
    "#  Question 1"
   ]
  },
  {
   "cell_type": "markdown",
   "metadata": {
    "id": "82c39cd7"
   },
   "source": [
    "***Write a print statement to print the mixed fraction 3 5/8 as a floating point number and as an integer.***"
   ]
  },
  {
   "cell_type": "markdown",
   "metadata": {
    "id": "3d1206e0"
   },
   "source": [
    "### Answer:"
   ]
  },
  {
   "cell_type": "code",
   "execution_count": null,
   "metadata": {
    "id": "8I_fQT-bf9cf"
   },
   "outputs": [],
   "source": [
    "from fractions import Fraction\n",
    "\n",
    "whole, frac = '3 5/8'.split(' ')\n",
    "result = int(whole) + Fraction(frac)\n",
    "print('integer: ', result, ', floating: ', float(result))"
   ]
  },
  {
   "cell_type": "markdown",
   "metadata": {
    "id": "782315b7"
   },
   "source": [
    "#  Question 8"
   ]
  },
  {
   "cell_type": "markdown",
   "metadata": {
    "id": "be5a74b1"
   },
   "source": [
    "***Write a program that asks the user to enter three numbers: the day of birth, the month of birth and the year of birth (use three separate input statements). Print out the total number of days from birth.***"
   ]
  },
  {
   "cell_type": "markdown",
   "metadata": {
    "id": "ffc357e6"
   },
   "source": [
    "### Answer:"
   ]
  },
  {
   "cell_type": "code",
   "execution_count": 3,
   "metadata": {
    "id": "dViSgjrHf8xl"
   },
   "outputs": [
    {
     "name": "stdout",
     "output_type": "stream",
     "text": [
      "Enter the day of birth:15\n",
      "Enter the month of birth:9\n",
      "Enter the year of birth:2004\n",
      "6578\n"
     ]
    }
   ],
   "source": [
    "import datetime\n",
    "\n",
    "day = int(input('Enter the day of birth:'))\n",
    "month = int(input('Enter the month of birth:'))\n",
    "year = int(input('Enter the year of birth:'))\n",
    "\n",
    "a = datetime.date(year, month, day)\n",
    "b = datetime.date.today()\n",
    "d = str(b-a)\n",
    "print(d.split()[0])"
   ]
  },
  {
   "cell_type": "markdown",
   "metadata": {
    "id": "c9c8af36"
   },
   "source": [
    "#  Question 10"
   ]
  },
  {
   "cell_type": "markdown",
   "metadata": {
    "id": "b3189cf2"
   },
   "source": [
    "***Write a program that generates a random decimal number between 1 and 10 with two decimal places of accuracy.***"
   ]
  },
  {
   "cell_type": "markdown",
   "metadata": {
    "id": "0bf49552"
   },
   "source": [
    "### Answer:"
   ]
  },
  {
   "cell_type": "code",
   "execution_count": 4,
   "metadata": {
    "id": "0RMPdfdif8Ya"
   },
   "outputs": [
    {
     "name": "stdout",
     "output_type": "stream",
     "text": [
      "4.18\n"
     ]
    }
   ],
   "source": [
    "import random\n",
    "\n",
    "print(round(random.uniform(1, 10),2))"
   ]
  },
  {
   "cell_type": "markdown",
   "metadata": {
    "id": "d055fd4b"
   },
   "source": [
    "#  Question 13"
   ]
  },
  {
   "cell_type": "markdown",
   "metadata": {
    "id": "c79ae3aa"
   },
   "source": [
    "***Write a program that asks the user to enter a length in centimeters. If the user enters a negative length, the program should tell the user that the entry is invalid. Otherwise, the program should convert the length to inches and print out the result. There are 2.54 centimeters in an inch.***\n"
   ]
  },
  {
   "cell_type": "markdown",
   "metadata": {
    "id": "fb5168e7"
   },
   "source": [
    "### Answer:"
   ]
  },
  {
   "cell_type": "code",
   "execution_count": 9,
   "metadata": {
    "id": "cqHrKRm9f6cg"
   },
   "outputs": [
    {
     "name": "stdout",
     "output_type": "stream",
     "text": [
      "Centimeters: 33\n",
      "Inches:  12.992125984251969\n"
     ]
    }
   ],
   "source": [
    "length = int(input(\"Centimeters: \"))\n",
    "\n",
    "if length <= 0:\n",
    "    print(\"entry is invalid\")\n",
    "else:\n",
    "    print('Inches: ', length/2.54)"
   ]
  },
  {
   "cell_type": "code",
   "execution_count": null,
   "metadata": {},
   "outputs": [],
   "source": []
  },
  {
   "cell_type": "code",
   "execution_count": null,
   "metadata": {},
   "outputs": [],
   "source": []
  }
 ],
 "metadata": {
  "colab": {
   "provenance": []
  },
  "kernelspec": {
   "display_name": "Python 3 (ipykernel)",
   "language": "python",
   "name": "python3"
  },
  "language_info": {
   "codemirror_mode": {
    "name": "ipython",
    "version": 3
   },
   "file_extension": ".py",
   "mimetype": "text/x-python",
   "name": "python",
   "nbconvert_exporter": "python",
   "pygments_lexer": "ipython3",
   "version": "3.9.12"
  }
 },
 "nbformat": 4,
 "nbformat_minor": 1
}
