{
  "nbformat": 4,
  "nbformat_minor": 0,
  "metadata": {
    "colab": {
      "provenance": []
    },
    "kernelspec": {
      "name": "python3",
      "display_name": "Python 3"
    },
    "language_info": {
      "name": "python"
    }
  },
  "cells": [
    {
      "cell_type": "markdown",
      "source": [
        "# ***Initializing***"
      ],
      "metadata": {
        "id": "L3Z2cFgtpCcJ"
      }
    },
    {
      "cell_type": "code",
      "execution_count": null,
      "metadata": {
        "colab": {
          "base_uri": "https://localhost:8080/"
        },
        "id": "bc7c0a7c",
        "outputId": "e4f57593-d6c7-4da1-e446-72e5acc3ec15"
      },
      "outputs": [
        {
          "output_type": "stream",
          "name": "stdout",
          "text": [
            "sys.version_info(major=3, minor=7, micro=14, releaselevel='final', serial=0)\n",
            "version 3.7.14\n"
          ]
        }
      ],
      "source": [
        "# Installation - anaconda python:\n",
        "#     - https://www.anaconda.com/products/individual\n",
        "# After installation you can always add modules.\n",
        "# Modules can be added from different channels.\n",
        "#   conda info\n",
        "#   conda config --add channels anaconda\n",
        "#   conda config --add channels conda-forge\n",
        "# You can do periodic updates using these commands:\n",
        "#   conda update conda\n",
        "#   conda update anaconda\n",
        "# -------------------------------------------------------\n",
        "import sys\n",
        "vv = sys.version_info\n",
        "print(vv)\n",
        "print('version ' + '.'.join([str(x) for x in vv[0:3]]))"
      ]
    },
    {
      "cell_type": "markdown",
      "metadata": {
        "id": "72f7c2f1"
      },
      "source": [
        "#  Question 3"
      ]
    },
    {
      "cell_type": "markdown",
      "metadata": {
        "id": "d67df8fe"
      },
      "source": [
        "***Write a print statement to print the mixed fraction 3 5/8 as a floating point number and as an integer.***"
      ]
    },
    {
      "cell_type": "markdown",
      "metadata": {
        "id": "abd82ff9"
      },
      "source": [
        "### Answer:"
      ]
    },
    {
      "cell_type": "code",
      "source": [
        "num1 = 3\n",
        "num2 = 5/8\n",
        "\n",
        "print(\"З комою: \", float(num1 + num2) )\n",
        "print(\"Ціле: \", int(num1 + num2) )"
      ],
      "metadata": {
        "id": "sQciqBqLolgS",
        "colab": {
          "base_uri": "https://localhost:8080/"
        },
        "outputId": "f1c72259-2cc7-4735-e0b6-901d2f26fd3f"
      },
      "execution_count": 1,
      "outputs": [
        {
          "output_type": "stream",
          "name": "stdout",
          "text": [
            "З комою:  3.625\n",
            "Ціле:  3\n"
          ]
        }
      ]
    },
    {
      "cell_type": "markdown",
      "metadata": {
        "id": "7f978472"
      },
      "source": [
        "#  Question 4"
      ]
    },
    {
      "cell_type": "markdown",
      "metadata": {
        "id": "5c774691"
      },
      "source": [
        "***Write a Python program which accepts the radius of a circle from the user and compute the area.***"
      ]
    },
    {
      "cell_type": "markdown",
      "metadata": {
        "id": "d6d0a52d"
      },
      "source": [
        "### Answer:"
      ]
    },
    {
      "cell_type": "code",
      "source": [
        "r = float(input(\"Введіть радіус кола r: \"))\n",
        "\n",
        "pi = 3.14\n",
        "S = pi * r ** 2\n",
        "\n",
        "print(\"Площа кола:\", S )"
      ],
      "metadata": {
        "id": "Ds3OCKPuo5bo",
        "colab": {
          "base_uri": "https://localhost:8080/"
        },
        "outputId": "872541ac-7ef2-4726-9131-5793085cd160"
      },
      "execution_count": 3,
      "outputs": [
        {
          "output_type": "stream",
          "name": "stdout",
          "text": [
            "Введіть радіус кола r: 4\n",
            "Площа кола: 50.24\n"
          ]
        }
      ]
    },
    {
      "cell_type": "markdown",
      "metadata": {
        "id": "7deb40b9"
      },
      "source": [
        "#  Question 5"
      ]
    },
    {
      "cell_type": "markdown",
      "metadata": {
        "id": "36e23563"
      },
      "source": [
        "***Write a Python program which accepts the user's first and last name and print them in reverse order with a space between them.***"
      ]
    },
    {
      "cell_type": "markdown",
      "metadata": {
        "id": "c1b63a5d"
      },
      "source": [
        "### Answer:"
      ]
    },
    {
      "cell_type": "code",
      "source": [
        "n = str (input (\"Введіть своє ім'я: \"))\n",
        "ln = str (input (\"Введіть своє прізвище: \"))\n",
        "\n",
        "rev_n = n[::-1]\n",
        "rev_ln = ln[::-1]\n",
        "\n",
        "print(\"Ваше реверс ім'я та прізвище:\", rev_n + \" \" + rev_ln)"
      ],
      "metadata": {
        "id": "NN-B36hWo8DX",
        "colab": {
          "base_uri": "https://localhost:8080/"
        },
        "outputId": "92e09cca-4816-4d1b-fcc2-1625283ab53d"
      },
      "execution_count": 5,
      "outputs": [
        {
          "output_type": "stream",
          "name": "stdout",
          "text": [
            "Введіть своє ім'я: Max\n",
            "Введіть своє прізвище: Linnyk\n",
            "Ваше реверс ім'я та прізвище:  xaM kynniL\n"
          ]
        }
      ]
    },
    {
      "cell_type": "markdown",
      "metadata": {
        "id": "dae428e7"
      },
      "source": [
        "#  Question 6"
      ]
    },
    {
      "cell_type": "markdown",
      "metadata": {
        "id": "08201c2e"
      },
      "source": [
        "***Write a Python program that accepts an integer (n) and computes the value of n+nn+nnn***"
      ]
    },
    {
      "cell_type": "markdown",
      "metadata": {
        "id": "ed4f8b37"
      },
      "source": [
        "### Answer:"
      ]
    },
    {
      "cell_type": "code",
      "source": [
        "n = int (input (\"Введіть ціле число:\"))\n",
        "\n",
        "print(\"Результат:\", n + n * n + n * n * n)"
      ],
      "metadata": {
        "id": "7tSZ86nuo-fW",
        "colab": {
          "base_uri": "https://localhost:8080/"
        },
        "outputId": "04128eb2-dab7-4eae-fd2b-6fa72cbad58b"
      },
      "execution_count": 6,
      "outputs": [
        {
          "output_type": "stream",
          "name": "stdout",
          "text": [
            "Введіть ціле число:3\n",
            "Результат: 39\n"
          ]
        }
      ]
    }
  ]
}