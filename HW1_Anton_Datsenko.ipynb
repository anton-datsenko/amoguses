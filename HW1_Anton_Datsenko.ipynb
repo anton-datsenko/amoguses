{
  "nbformat": 4,
  "nbformat_minor": 0,
  "metadata": {
    "colab": {
      "provenance": []
    },
    "kernelspec": {
      "name": "python3",
      "display_name": "Python 3"
    },
    "language_info": {
      "name": "python"
    }
  },
  "cells": [
    {
      "cell_type": "markdown",
      "source": [
        "# ***Initializing***"
      ],
      "metadata": {
        "id": "L3Z2cFgtpCcJ"
      }
    },
    {
      "cell_type": "code",
      "execution_count": null,
      "metadata": {
        "colab": {
          "base_uri": "https://localhost:8080/"
        },
        "id": "bc7c0a7c",
        "outputId": "7f81ac86-17c0-430d-ca0c-9a3696956535"
      },
      "outputs": [
        {
          "output_type": "stream",
          "name": "stdout",
          "text": [
            "sys.version_info(major=3, minor=7, micro=14, releaselevel='final', serial=0)\n",
            "version 3.7.14\n"
          ]
        }
      ],
      "source": [
        "# Installation - anaconda python:\n",
        "#     - https://www.anaconda.com/products/individual\n",
        "# After installation you can always add modules.\n",
        "# Modules can be added from different channels.\n",
        "#   conda info\n",
        "#   conda config --add channels anaconda\n",
        "#   conda config --add channels conda-forge\n",
        "# You can do periodic updates using these commands:\n",
        "#   conda update conda\n",
        "#   conda update anaconda\n",
        "# -------------------------------------------------------\n",
        "import sys\n",
        "vv = sys.version_info\n",
        "print(vv)\n",
        "print('version ' + '.'.join([str(x) for x in vv[0:3]]))"
      ]
    },
    {
      "cell_type": "markdown",
      "metadata": {
        "id": "1469555d"
      },
      "source": [
        "#  Question 14"
      ]
    },
    {
      "cell_type": "markdown",
      "metadata": {
        "id": "73a97ead"
      },
      "source": [
        "***Write a program that lets the user play Rock-Paper-Scissors against the computer. There should be three rounds, and after those three rounds, your program should print out who won and lost or that there is a tie.***"
      ]
    },
    {
      "cell_type": "markdown",
      "metadata": {
        "id": "96b5d4f0"
      },
      "source": [
        "### Answer:"
      ]
    },
    {
      "cell_type": "code",
      "source": [
        "from random import choice\n",
        "\n",
        "def r_p_s():\n",
        "  #Initializing scoreboard\n",
        "  player_points, pc_points = 0, 0\n",
        "  #Starting game rounds\n",
        "  for i in range(1, 4):\n",
        "    #players choose their signs\n",
        "    player_input = input(f\"Round #{i}. Enter 'R' for a rock, 'P' for paper or \\\n",
        "'S' for scissors: \").upper()\n",
        "    pc_input = choice([\"R\", \"P\", \"S\"])\n",
        "    #logical part\n",
        "    if player_input == pc_input:\n",
        "      print(f\"Draw! You chosed {player_input}, so does the PC!\")\n",
        "    elif (player_input == \"P\" and pc_input == \"R\") or (player_input == \"R\" and \\\n",
        "      pc_input == \"S\") or (player_input == \"S\" and pc_input == \"P\"):\n",
        "      print(f\"You won this round with {player_input} and PC chose {pc_input}\")\n",
        "      player_points += 1\n",
        "    else:\n",
        "      print(f\"Oh no, you lost this round with {player_input} and PC chose \\\n",
        "{pc_input}\")\n",
        "      pc_points += 1\n",
        "  #returning results\n",
        "  if player_points > pc_points:\n",
        "    return f\"So, the winner is... YOU! Total result: user: |{player_points}| \\\n",
        "& pc: |{pc_points}|.\"\n",
        "  elif player_points < pc_points:\n",
        "    return f\"Such a pity, PC wins! Total result: user: |{player_points}| \\\n",
        "& pc: |{pc_points}|. \"\n",
        "  return \"That's a tie!\"\n",
        "\n",
        "r_p_s()"
      ],
      "metadata": {
        "id": "0_W23bcomF3x",
        "colab": {
          "base_uri": "https://localhost:8080/",
          "height": 140
        },
        "outputId": "e4d02812-eab4-4cbd-ea15-9520af56396b"
      },
      "execution_count": null,
      "outputs": [
        {
          "output_type": "stream",
          "name": "stdout",
          "text": [
            "Round #1. Enter 'R' for a rock, 'P' for paper or 'S' for scissors: R\n",
            "You won this round with R and PC chose S\n",
            "Round #2. Enter 'R' for a rock, 'P' for paper or 'S' for scissors: R\n",
            "You won this round with R and PC chose S\n",
            "Round #3. Enter 'R' for a rock, 'P' for paper or 'S' for scissors: R\n",
            "Draw! You chosed R, so does PC!\n"
          ]
        },
        {
          "output_type": "execute_result",
          "data": {
            "text/plain": [
              "'So, the winner is... YOU! Total result: user |2| & pc: |0|.'"
            ],
            "application/vnd.google.colaboratory.intrinsic+json": {
              "type": "string"
            }
          },
          "metadata": {},
          "execution_count": 5
        }
      ]
    },
    {
      "cell_type": "markdown",
      "metadata": {
        "id": "4408a3a9"
      },
      "source": [
        "# Question 18"
      ]
    },
    {
      "cell_type": "markdown",
      "metadata": {
        "id": "bb4ef2dd"
      },
      "source": [
        "***Write a function that reverse the tuple.***"
      ]
    },
    {
      "cell_type": "markdown",
      "metadata": {
        "id": "8fdb9709"
      },
      "source": [
        "## Answer:"
      ]
    },
    {
      "cell_type": "code",
      "source": [
        "'''Suppose we have a tuple named \"letters\": letters = ('a', 'b', 'c', 'd')'''\n",
        "def tuple_reversed(tup):\n",
        "  lis = list(letters)\n",
        "  lis.reverse()\n",
        "  return tuple(lis)\n",
        "  \n",
        "letters = ('a', 'b', 'c', 'd')\n",
        "tuple_reversed(letters)"
      ],
      "metadata": {
        "id": "ni04OQQ_mGdF",
        "colab": {
          "base_uri": "https://localhost:8080/"
        },
        "outputId": "4175d03b-54a3-4bc6-ad34-eab47dae56ef"
      },
      "execution_count": null,
      "outputs": [
        {
          "output_type": "execute_result",
          "data": {
            "text/plain": [
              "('d', 'c', 'b', 'a')"
            ]
          },
          "metadata": {},
          "execution_count": 2
        }
      ]
    },
    {
      "cell_type": "markdown",
      "metadata": {
        "id": "fcc4f206"
      },
      "source": [
        "# Question 19"
      ]
    },
    {
      "cell_type": "markdown",
      "metadata": {
        "id": "84e09c29"
      },
      "source": [
        "***Sort a tuple of tuples by 2nd item. For example, the output for the tuple $(('a', 23),('b', 37),('c', 11), ('d',29))$ should be $(('c', 11), ('a', 23), ('d', 29), ('b', 37))$***"
      ]
    },
    {
      "cell_type": "markdown",
      "metadata": {
        "id": "27ca631f"
      },
      "source": [
        "## Answer:"
      ]
    },
    {
      "cell_type": "code",
      "source": [
        "def sorting_by_2nd(tup):\n",
        "  lis = list(tup)\n",
        "  lis.sort(key = lambda x: x[1])\n",
        "  return tuple(lis)\n",
        "  \n",
        "lis = (('a',45),('b',87),('c',435),('d',1))\n",
        "sorting_by_2nd(lis)"
      ],
      "metadata": {
        "id": "7FKigF-6mHNb",
        "colab": {
          "base_uri": "https://localhost:8080/"
        },
        "outputId": "53ebbd6d-6385-4365-9695-adaabdb5c25f"
      },
      "execution_count": 40,
      "outputs": [
        {
          "output_type": "execute_result",
          "data": {
            "text/plain": [
              "(('d', 1), ('a', 45), ('b', 87), ('c', 435))"
            ]
          },
          "metadata": {},
          "execution_count": 40
        }
      ]
    },
    {
      "cell_type": "markdown",
      "metadata": {
        "id": "b683db4e"
      },
      "source": [
        "# Question 20"
      ]
    },
    {
      "cell_type": "markdown",
      "metadata": {
        "id": "acbd5882"
      },
      "source": [
        "***Write a function that removes empty strings from the list of strings.***"
      ]
    },
    {
      "cell_type": "markdown",
      "metadata": {
        "id": "581524a9"
      },
      "source": [
        "## Answer:"
      ]
    },
    {
      "cell_type": "code",
      "source": [
        "def remover(lis):\n",
        "  while \"\" in lis:\n",
        "      lis.remove(\"\")\n",
        "  return lis\n",
        "\n",
        "lis = [ '', '121', '3', '', '213', \"\", '', '', '', '', \"ddhaj\"]\n",
        "remover(lis)\n"
      ],
      "metadata": {
        "id": "wbOtljg3mIL_",
        "colab": {
          "base_uri": "https://localhost:8080/"
        },
        "outputId": "d64ce0f4-7b5b-4595-fb99-bf3ac007fce2"
      },
      "execution_count": null,
      "outputs": [
        {
          "output_type": "execute_result",
          "data": {
            "text/plain": [
              "['121', '3', '213', 'ddhaj']"
            ]
          },
          "metadata": {},
          "execution_count": 28
        }
      ]
    }
  ]
}