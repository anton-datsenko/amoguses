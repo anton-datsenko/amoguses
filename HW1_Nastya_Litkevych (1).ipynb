{
  "nbformat": 4,
  "nbformat_minor": 0,
  "metadata": {
    "colab": {
      "provenance": [],
      "collapsed_sections": []
    },
    "kernelspec": {
      "name": "python3",
      "display_name": "Python 3"
    },
    "language_info": {
      "name": "python"
    }
  },
  "cells": [
    {
      "cell_type": "markdown",
      "source": [
        "# ***Initializing***"
      ],
      "metadata": {
        "id": "L3Z2cFgtpCcJ"
      }
    },
    {
      "cell_type": "code",
      "execution_count": null,
      "metadata": {
        "colab": {
          "base_uri": "https://localhost:8080/"
        },
        "id": "bc7c0a7c",
        "outputId": "e4f57593-d6c7-4da1-e446-72e5acc3ec15"
      },
      "outputs": [
        {
          "output_type": "stream",
          "name": "stdout",
          "text": [
            "sys.version_info(major=3, minor=7, micro=14, releaselevel='final', serial=0)\n",
            "version 3.7.14\n"
          ]
        }
      ],
      "source": [
        "# Installation - anaconda python:\n",
        "#     - https://www.anaconda.com/products/individual\n",
        "# After installation you can always add modules.\n",
        "# Modules can be added from different channels.\n",
        "#   conda info\n",
        "#   conda config --add channels anaconda\n",
        "#   conda config --add channels conda-forge\n",
        "# You can do periodic updates using these commands:\n",
        "#   conda update conda\n",
        "#   conda update anaconda\n",
        "# -------------------------------------------------------\n",
        "import sys\n",
        "vv = sys.version_info\n",
        "print(vv)\n",
        "print('version ' + '.'.join([str(x) for x in vv[0:3]]))"
      ]
    },
    {
      "cell_type": "markdown",
      "metadata": {
        "id": "f22dd569"
      },
      "source": [
        "#  Question 2"
      ]
    },
    {
      "cell_type": "markdown",
      "metadata": {
        "id": "dca44c62"
      },
      "source": [
        "***Convert Between °C and °F. Convert temperatures from one system to another.***\n",
        "- **Create a print statement to convert 18.5° C to °F.**\n",
        "- **Create a print statement to convert -4° F to °C.**"
      ]
    },
    {
      "cell_type": "markdown",
      "metadata": {
        "id": "00b6f59b"
      },
      "source": [
        "### Answer:"
      ]
    },
    {
      "cell_type": "code",
      "source": [
        "celsius = 18.5\n",
        "f = (celsius * 1.8) + 32\n",
        "print(str(celsius), \"°C is\", str(f) + \"°F\")\n",
        "\n",
        "fharenheit = -4\n",
        "c = 5/9 * (fharenheit - 32)\n",
        "print(str(fharenheit), \"°F is\", str(c) + \"C\")"
      ],
      "metadata": {
        "id": "fMr73WHIht6O",
        "colab": {
          "base_uri": "https://localhost:8080/",
          "height": 0
        },
        "outputId": "8f289e91-dc8c-4182-9428-7d82e233c974"
      },
      "execution_count": 1,
      "outputs": [
        {
          "output_type": "stream",
          "name": "stdout",
          "text": [
            "18.5 °C is 65.30000000000001°F\n",
            "-4 °F is -20.0C\n"
          ]
        }
      ]
    },
    {
      "cell_type": "markdown",
      "metadata": {
        "id": "bec8d306"
      },
      "source": [
        "#  Question 7"
      ]
    },
    {
      "cell_type": "markdown",
      "metadata": {
        "id": "0b82ae59"
      },
      "source": [
        "***A lot of cell phones have tip calculators. Write one. Ask the user for the price of the meal and the percent tip they want to leave. Then print both the tip amount and the total bill with the tip included.***"
      ]
    },
    {
      "cell_type": "markdown",
      "metadata": {
        "id": "855e9ada"
      },
      "source": [
        "### Answer:"
      ]
    },
    {
      "cell_type": "code",
      "source": [
        "price = 10\n",
        "percent = 20\n",
        "tip = price/100*percent\n",
        "total = price + tip\n",
        "print (\"Total bill - \",str(total), 'UAH' , \"Tip amount - \", str(tip), 'UAH')"
      ],
      "metadata": {
        "id": "G8i_I7Cvh27x",
        "colab": {
          "base_uri": "https://localhost:8080/",
          "height": 0
        },
        "outputId": "918c3a48-59ed-456e-b068-7671360ed129"
      },
      "execution_count": 7,
      "outputs": [
        {
          "output_type": "stream",
          "name": "stdout",
          "text": [
            "Total bill -  12.0 UAH Tip amount -  2.0 UAH\n"
          ]
        }
      ]
    },
    {
      "cell_type": "markdown",
      "metadata": {
        "id": "046e6b5d"
      },
      "source": [
        "#  Question 9"
      ]
    },
    {
      "cell_type": "markdown",
      "metadata": {
        "id": "2be8413c"
      },
      "source": [
        "***Write a program that asks the user to enter an angle between -180° and 180°. Using an expression with the modulo operator, convert the angle to its equivalent between 0° and 360°.***"
      ]
    },
    {
      "cell_type": "markdown",
      "metadata": {
        "id": "070683b5"
      },
      "source": [
        "### Answer:"
      ]
    },
    {
      "cell_type": "code",
      "source": [
        "angle = 0\n",
        "eq = 0\n",
        "def eq_angle (angle):\n",
        "  if angle < 0:\n",
        "    return abs(angle) + 180\n",
        "  return angle\n",
        "\n",
        "print (eq_angle (90))\n",
        "print (eq_angle (-90))"
      ],
      "metadata": {
        "id": "IorvtIT5h3w6",
        "colab": {
          "base_uri": "https://localhost:8080/",
          "height": 0
        },
        "outputId": "3570ad3e-5024-44ce-ccea-e1cec78b8657"
      },
      "execution_count": 19,
      "outputs": [
        {
          "output_type": "stream",
          "name": "stdout",
          "text": [
            "90\n",
            "270\n"
          ]
        }
      ]
    },
    {
      "cell_type": "code",
      "source": [],
      "metadata": {
        "id": "_jmuJveNwQiP"
      },
      "execution_count": null,
      "outputs": []
    },
    {
      "cell_type": "markdown",
      "metadata": {
        "id": "bf4186d1"
      },
      "source": [
        "#  Question 16"
      ]
    },
    {
      "cell_type": "markdown",
      "metadata": {
        "id": "d1389cb0"
      },
      "source": [
        "***Write a program that removes any repeated items from a list so that each item appears at most once. For instance, the list $[1,1,2,3,4,3,0,0]$ would become $[1,2,3,4,0]$.***\n",
        "\n",
        "From Anton: best-in-slot option is to use a set. It possesses a great feauture: it can only contain unique elements, so the result of function set([1, 1, 2, 2, 3]) will be {1, 2, 3}"
      ]
    },
    {
      "cell_type": "markdown",
      "metadata": {
        "id": "765928be"
      },
      "source": [
        "### Answer:"
      ]
    },
    {
      "cell_type": "code",
      "source": [
        "numbers = [1,1,2,3,4,5,4,6,0,0]\n",
        "unique = set(numbers)\n",
        "print(unique)"
      ],
      "metadata": {
        "id": "ZoC_WVwvi76j",
        "colab": {
          "base_uri": "https://localhost:8080/",
          "height": 0
        },
        "outputId": "403a9478-2151-4fdf-9b6d-c5bfc1b49c87"
      },
      "execution_count": 8,
      "outputs": [
        {
          "output_type": "stream",
          "name": "stdout",
          "text": [
            "{0, 1, 2, 3, 4, 5, 6}\n"
          ]
        }
      ]
    }
  ]
}